{
 "cells": [
  {
   "cell_type": "code",
   "execution_count": 35,
   "metadata": {},
   "outputs": [
    {
     "name": "stderr",
     "output_type": "stream",
     "text": [
      "25/04/02 17:43:09 WARN SparkSession: Using an existing Spark session; only runtime SQL configurations will take effect.\n"
     ]
    }
   ],
   "source": [
    "from pyspark.sql import SparkSession\n",
    "import pyspark.sql.functions as F\n",
    "\n",
    "spark: SparkSession = (\n",
    "    SparkSession\n",
    "    .builder\n",
    "    .config(\"spark.sql.warehouse.dir\", \"./tmp\") # type: ignore\n",
    "    .master('local[*]')\n",
    "    .getOrCreate()\n",
    ")\n"
   ]
  },
  {
   "cell_type": "markdown",
   "metadata": {},
   "source": [
    "# Geração de DataFrames de exemplo"
   ]
  },
  {
   "cell_type": "code",
   "execution_count": 36,
   "metadata": {},
   "outputs": [],
   "source": [
    "def criar_dataframe_funcionarios():\n",
    "    data = [\n",
    "        (1, \"Maria Silva\", 101, 75000, \"2019-05-15\", \"São Paulo\", 4.2),\n",
    "        (2, \"João Santos\", 101, 85000, \"2018-03-12\", \"Rio de Janeiro\", 4.7),\n",
    "        (3, \"Ana Oliveira\", 102, 65000, \"2020-01-10\", \"São Paulo\", 3.9),\n",
    "        (4, \"Carlos Souza\", 103, 72000, \"2019-08-22\", \"Belo Horizonte\", 4.5),\n",
    "        (5, \"Juliana Lima\", 104, 60000, \"2021-02-18\", \"São Paulo\", 4.0),\n",
    "        (6, \"Pedro Costa\", 101, 90000, \"2017-11-05\", \"Rio de Janeiro\", 4.8),\n",
    "        (7, \"Fernanda Alves\", 102, 67000, \"2020-03-20\", \"São Paulo\", 4.1),\n",
    "        (8, \"Rafael Pereira\", 103, 78000, \"2018-07-14\", \"Belo Horizonte\", 4.6),\n",
    "        (9, \"Mariana Santos\", 104, 62000, \"2021-01-05\", \"São Paulo\", 3.8),\n",
    "        (10, \"Lucas Ferreira\", 101, 82000, \"2019-04-30\", \"Rio de Janeiro\", 4.3),\n",
    "        (11, \"Bianca Lima\", 105, 70000, \"2020-06-15\", \"Curitiba\", 4.0),\n",
    "        (12, \"Thiago Almeida\", 106, 68000, \"2019-07-20\", \"Brasília\", 4.2)\n",
    "    ]\n",
    "\n",
    "    schema = [\"id\", \"nome\", \"id_departamento\", \"salario\", \"data_contratacao\", \"localidade\", \"avaliacao\"]\n",
    "    \n",
    "    df = spark.createDataFrame(data, schema)\n",
    "    \n",
    "    return df\n",
    "\n",
    "def criar_dataframe_departamentos():\n",
    "    data = [\n",
    "        (101, \"Engenharia\", \"Carlos Mendes\", 15, \"Prédio A\"),\n",
    "        (102, \"Marketing\", \"Amanda Rocha\", 8, \"Prédio B\"),\n",
    "        (103, \"Vendas\", \"Roberto Alves\", 12, \"Prédio C\"),\n",
    "        (104, \"Recursos Humanos\", \"Camila Ferreira\", 5, \"Prédio A\"),\n",
    "        (107, \"Financeiro\", \"Marcelo Santos\", 7, \"Prédio B\"),\n",
    "        (108, \"Jurídico\", \"Patricia Lima\", 3, \"Prédio C\")\n",
    "    ]\n",
    "    \n",
    "    schema = [\"id\", \"nome\", \"diretor\", \"num_funcionarios\", \"localizacao\"]\n",
    "    \n",
    "    df = spark.createDataFrame(data, schema)\n",
    "    \n",
    "    return df"
   ]
  },
  {
   "cell_type": "markdown",
   "metadata": {},
   "source": [
    "## Amostra de dados do dataframe de funcionarios"
   ]
  },
  {
   "cell_type": "code",
   "execution_count": 37,
   "metadata": {},
   "outputs": [
    {
     "name": "stdout",
     "output_type": "stream",
     "text": [
      "+---+--------------+---------------+-------+----------------+--------------+---------+\n",
      "| id|          nome|id_departamento|salario|data_contratacao|    localidade|avaliacao|\n",
      "+---+--------------+---------------+-------+----------------+--------------+---------+\n",
      "|  1|   Maria Silva|            101|  75000|      2019-05-15|     São Paulo|      4.2|\n",
      "|  2|   João Santos|            101|  85000|      2018-03-12|Rio de Janeiro|      4.7|\n",
      "|  3|  Ana Oliveira|            102|  65000|      2020-01-10|     São Paulo|      3.9|\n",
      "|  4|  Carlos Souza|            103|  72000|      2019-08-22|Belo Horizonte|      4.5|\n",
      "|  5|  Juliana Lima|            104|  60000|      2021-02-18|     São Paulo|      4.0|\n",
      "|  6|   Pedro Costa|            101|  90000|      2017-11-05|Rio de Janeiro|      4.8|\n",
      "|  7|Fernanda Alves|            102|  67000|      2020-03-20|     São Paulo|      4.1|\n",
      "|  8|Rafael Pereira|            103|  78000|      2018-07-14|Belo Horizonte|      4.6|\n",
      "|  9|Mariana Santos|            104|  62000|      2021-01-05|     São Paulo|      3.8|\n",
      "| 10|Lucas Ferreira|            101|  82000|      2019-04-30|Rio de Janeiro|      4.3|\n",
      "| 11|   Bianca Lima|            105|  70000|      2020-06-15|      Curitiba|      4.0|\n",
      "| 12|Thiago Almeida|            106|  68000|      2019-07-20|      Brasília|      4.2|\n",
      "+---+--------------+---------------+-------+----------------+--------------+---------+\n",
      "\n"
     ]
    }
   ],
   "source": [
    "criar_dataframe_funcionarios().show()"
   ]
  },
  {
   "cell_type": "markdown",
   "metadata": {},
   "source": [
    "## Amostra de dados do dataframe de departamentos"
   ]
  },
  {
   "cell_type": "code",
   "execution_count": 38,
   "metadata": {},
   "outputs": [
    {
     "name": "stdout",
     "output_type": "stream",
     "text": [
      "+---+----------------+---------------+----------------+-----------+\n",
      "| id|            nome|        diretor|num_funcionarios|localizacao|\n",
      "+---+----------------+---------------+----------------+-----------+\n",
      "|101|      Engenharia|  Carlos Mendes|              15|   Prédio A|\n",
      "|102|       Marketing|   Amanda Rocha|               8|   Prédio B|\n",
      "|103|          Vendas|  Roberto Alves|              12|   Prédio C|\n",
      "|104|Recursos Humanos|Camila Ferreira|               5|   Prédio A|\n",
      "|107|      Financeiro| Marcelo Santos|               7|   Prédio B|\n",
      "|108|        Jurídico|  Patricia Lima|               3|   Prédio C|\n",
      "+---+----------------+---------------+----------------+-----------+\n",
      "\n"
     ]
    }
   ],
   "source": [
    "criar_dataframe_departamentos().show()"
   ]
  },
  {
   "cell_type": "markdown",
   "metadata": {},
   "source": [
    "# Manipulação de colunas \n",
    "\n",
    "Para gerar colunas em um DataFrame temos algumas opções:"
   ]
  },
  {
   "cell_type": "code",
   "execution_count": null,
   "metadata": {},
   "outputs": [
    {
     "name": "stdout",
     "output_type": "stream",
     "text": [
      "+---+--------------+---------------+-------+----------------+--------------+---------+-----+-------------+---------------+--------------------+----------------+-------------+\n",
      "| id|          nome|id_departamento|salario|data_contratacao|    localidade|avaliacao|bonus|salario_anual|    acima_media|localidade_sao_paulo|salario_ajustado|nivel_salario|\n",
      "+---+--------------+---------------+-------+----------------+--------------+---------+-----+-------------+---------------+--------------------+----------------+-------------+\n",
      "|  1|   Maria Silva|            101|  75000|      2019-05-15|     São Paulo|      4.2| 5000|       900000| ACIMA DA MEDIA|           SÃO PAULO|         82500.0|BAIXO SALARIO|\n",
      "|  2|   João Santos|            101|  85000|      2018-03-12|Rio de Janeiro|      4.7| 5000|      1020000| ACIMA DA MEDIA|         OUTRO LUGAR|         93500.0| ALTO SALARIO|\n",
      "|  3|  Ana Oliveira|            102|  65000|      2020-01-10|     São Paulo|      3.9| 5000|       780000|ABAIXO DA MEDIA|           SÃO PAULO|         71500.0|BAIXO SALARIO|\n",
      "|  4|  Carlos Souza|            103|  72000|      2019-08-22|Belo Horizonte|      4.5| 5000|       864000| ACIMA DA MEDIA|         OUTRO LUGAR|         79200.0|BAIXO SALARIO|\n",
      "|  5|  Juliana Lima|            104|  60000|      2021-02-18|     São Paulo|      4.0| 5000|       720000|ABAIXO DA MEDIA|           SÃO PAULO|         66000.0|BAIXO SALARIO|\n",
      "|  6|   Pedro Costa|            101|  90000|      2017-11-05|Rio de Janeiro|      4.8| 5000|      1080000| ACIMA DA MEDIA|         OUTRO LUGAR|         99000.0| ALTO SALARIO|\n",
      "|  7|Fernanda Alves|            102|  67000|      2020-03-20|     São Paulo|      4.1| 5000|       804000| ACIMA DA MEDIA|           SÃO PAULO|         73700.0|BAIXO SALARIO|\n",
      "|  8|Rafael Pereira|            103|  78000|      2018-07-14|Belo Horizonte|      4.6| 5000|       936000| ACIMA DA MEDIA|         OUTRO LUGAR|         85800.0|BAIXO SALARIO|\n",
      "|  9|Mariana Santos|            104|  62000|      2021-01-05|     São Paulo|      3.8| 5000|       744000|ABAIXO DA MEDIA|           SÃO PAULO|         68200.0|BAIXO SALARIO|\n",
      "| 10|Lucas Ferreira|            101|  82000|      2019-04-30|Rio de Janeiro|      4.3| 5000|       984000| ACIMA DA MEDIA|         OUTRO LUGAR|         90200.0| ALTO SALARIO|\n",
      "| 11|   Bianca Lima|            105|  70000|      2020-06-15|      Curitiba|      4.0| 5000|       840000|ABAIXO DA MEDIA|         OUTRO LUGAR|         77000.0|BAIXO SALARIO|\n",
      "| 12|Thiago Almeida|            106|  68000|      2019-07-20|      Brasília|      4.2| 5000|       816000| ACIMA DA MEDIA|         OUTRO LUGAR|         74800.0|BAIXO SALARIO|\n",
      "+---+--------------+---------------+-------+----------------+--------------+---------+-----+-------------+---------------+--------------------+----------------+-------------+\n",
      "\n"
     ]
    }
   ],
   "source": [
    "# 1. com withColumn - É um método que adiciona uma nova coluna ou substitui uma coluna existente em um DataFrame.\n",
    "df = criar_dataframe_funcionarios()\n",
    "\n",
    "\n",
    "\n",
    "# Adicionando uma nova coluna com valor fixo \n",
    "df = df.withColumn(\"bonus\", F.lit(5000))\n",
    "\n",
    "# Adicionando uma nova coluna com valor calculado utilizando a coluna \"salario\"\n",
    "df = df.withColumn(\"salario_anual\", df[\"salario\"] * 12)\n",
    "\n",
    "# Adicionando uma nova coluna definindo se o funcionário está acima da média (> 4) pela avaliação\n",
    "df = df.withColumn(\"acima_media\", F.when(df[\"avaliacao\"] > 4, 'ACIMA DA MEDIA').otherwise('ABAIXO DA MEDIA'))\n",
    "\n",
    "# Podemos também criar colunas com expressões mais complexas FORA da função e utilizar o objeto como argumento:\n",
    "# Calcula se o funcionário é de São Paulo ou não\n",
    "\n",
    "coluna_sao_paulo = F.when(df[\"localidade\"] == \"São Paulo\", \"SÃO PAULO\").otherwise(\"OUTRO LUGAR\")\n",
    "df = df.withColumn(\"localidade_sao_paulo\", coluna_sao_paulo)\n",
    "\n",
    "# Podemos utilizar também a função F.expr para criar colunas com expressões SQL (aquelas que geralmente utilizamos no comando SELECT para transformar os dados)\n",
    "# Exemplo: Criando uma nova coluna \"salario_ajustado\" que é 10% maior que o salário atual\n",
    "df = df.withColumn(\"salario_ajustado\", F.expr(\"salario * 1.1\"))\n",
    "\n",
    "# Exemplo: se o salário for maior que 80000, o funcionário é considerado \"ALTO SALÁRIO\", caso contrário \"BAIXO SALÁRIO\"\n",
    "df = df.withColumn(\"nivel_salario\", F.expr(\"CASE WHEN salario > 80000 THEN 'ALTO SALARIO' ELSE 'BAIXO SALARIO' END\"))\n",
    "\n",
    "df.show()\n"
   ]
  },
  {
   "cell_type": "code",
   "execution_count": null,
   "metadata": {},
   "outputs": [
    {
     "name": "stdout",
     "output_type": "stream",
     "text": [
      "+-----+-------------+---------------+--------------------+-----------------+-------------+\n",
      "|bonus|salario_anual|    acima_media|localidade_sao_paulo| salario_ajustado|nivel_salario|\n",
      "+-----+-------------+---------------+--------------------+-----------------+-------------+\n",
      "| 5000|       900000| ACIMA DA MEDIA|           SÃO PAULO|          82500.0|BAIXO SALARIO|\n",
      "| 5000|      1020000| ACIMA DA MEDIA|         OUTRO LUGAR|93500.00000000001| ALTO SALARIO|\n",
      "| 5000|       780000|ABAIXO DA MEDIA|           SÃO PAULO|          71500.0|BAIXO SALARIO|\n",
      "| 5000|       864000| ACIMA DA MEDIA|         OUTRO LUGAR|          79200.0|BAIXO SALARIO|\n",
      "| 5000|       720000|ABAIXO DA MEDIA|           SÃO PAULO|          66000.0|BAIXO SALARIO|\n",
      "| 5000|      1080000| ACIMA DA MEDIA|         OUTRO LUGAR|99000.00000000001| ALTO SALARIO|\n",
      "| 5000|       804000| ACIMA DA MEDIA|           SÃO PAULO|          73700.0|BAIXO SALARIO|\n",
      "| 5000|       936000| ACIMA DA MEDIA|         OUTRO LUGAR|          85800.0|BAIXO SALARIO|\n",
      "| 5000|       744000|ABAIXO DA MEDIA|           SÃO PAULO|          68200.0|BAIXO SALARIO|\n",
      "| 5000|       984000| ACIMA DA MEDIA|         OUTRO LUGAR|90200.00000000001| ALTO SALARIO|\n",
      "| 5000|       840000|ABAIXO DA MEDIA|         OUTRO LUGAR|          77000.0|BAIXO SALARIO|\n",
      "| 5000|       816000| ACIMA DA MEDIA|         OUTRO LUGAR|          74800.0|BAIXO SALARIO|\n",
      "+-----+-------------+---------------+--------------------+-----------------+-------------+\n",
      "\n"
     ]
    }
   ],
   "source": [
    "# 2. com select - O método select é usado para selecionar colunas específicas de um DataFrame. Ele pode ser usado para renomear colunas, aplicar funções e criar novas colunas.\n",
    "# Para exemplificar seu uso, iremos fazer as mesmas transformações que fizemos com o withColumn, mas agora utilizando o select. \n",
    "# Obs: APENAS COLUNAS QUE ESTÃO NO SELECT SÃO RETORNADAS, diferente do withColumn que retorna o DataFrame inteiro. Portanto, sempre que usar esse comando, lembre-se de colocar as colunas que você quer retornar.\n",
    "\n",
    "df = criar_dataframe_funcionarios()\n",
    "\n",
    "# Assim como no withColumn, podemos também criar colunas com expressões mais complexas FORA da função e utilizar o objeto como argumento:\n",
    "\n",
    "coluna_sao_paulo = F.when(df[\"localidade\"] == \"São Paulo\", \"SÃO PAULO\").otherwise(\"OUTRO LUGAR\")\n",
    "\n",
    "df = df.select(\n",
    "    \"*\", # Seleciona todas as colunas existentes\n",
    "    F.lit(5000).alias(\"bonus\"), # Adiciona uma nova coluna com valor fixo\n",
    "    (df[\"salario\"] * 12).alias(\"salario_anual\"), # Adiciona uma nova coluna com valor calculado\n",
    "    F.when(df[\"avaliacao\"] > 4, 'ACIMA DA MEDIA').otherwise('ABAIXO DA MEDIA').alias(\"acima_media\"), # Adiciona uma nova coluna definindo se o funcionário está acima da média (> 4) pela avaliação\n",
    "    coluna_sao_paulo.alias(\"localidade_sao_paulo\"), # Calcula se o funcionário é de São Paulo ou não\n",
    "    (df[\"salario\"] * 1.1).alias(\"salario_ajustado\"), # Criando uma nova coluna \"salario_ajustado\" que é 10% maior que o salário atual\n",
    "    F.expr(\"CASE WHEN salario > 80000 THEN 'ALTO SALARIO' ELSE 'BAIXO SALARIO' END\").alias(\"nivel_salario\") # Exemplo: se o salário for maior que 80000, o funcionário é considerado \"ALTO SALÁRIO\", caso contrário \"BAIXO SALÁRIO\"\n",
    ")\n",
    "\n",
    "df.show()"
   ]
  },
  {
   "cell_type": "code",
   "execution_count": null,
   "metadata": {},
   "outputs": [
    {
     "name": "stdout",
     "output_type": "stream",
     "text": [
      "== Physical Plan ==\n",
      "*(1) Project [id#3702L, nome#3703, id_departamento#3704L, salario#3705L, data_contratacao#3706, localidade#3707, avaliacao#3708, 5000 AS bonus#3716, (salario#3705L * 12) AS salario_anual#3717L, CASE WHEN (avaliacao#3708 > 4.0) THEN ACIMA DA MEDIA ELSE ABAIXO DA MEDIA END AS acima_media#3718, CASE WHEN (localidade#3707 = São Paulo) THEN SÃO PAULO ELSE OUTRO LUGAR END AS localidade_sao_paulo#3719, (cast(salario#3705L as decimal(20,0)) * 1.1) AS salario_ajustado#3720, CASE WHEN (salario#3705L > 80000) THEN ALTO SALARIO ELSE BAIXO SALARIO END AS nivel_salario#3721]\n",
      "+- *(1) Scan ExistingRDD[id#3702L,nome#3703,id_departamento#3704L,salario#3705L,data_contratacao#3706,localidade#3707,avaliacao#3708]\n",
      "\n",
      "\n"
     ]
    }
   ],
   "source": [
    "# 3. com selectExpr - O método selectExpr é semelhante ao select, mas permite usar expressões SQL diretamente para selecionar e transformar colunas. Isso pode ser útil quando você deseja aplicar operações mais complexas ou usar funções SQL específicas.\n",
    "df = criar_dataframe_funcionarios()\n",
    "\n",
    "df = df.selectExpr(\n",
    "    \"*\", # Seleciona todas as colunas existentes\n",
    "    \"5000 as bonus\", # Adiciona uma nova coluna com valor fixo\n",
    "    \"(salario * 12) as salario_anual\", # Adiciona uma nova coluna com valor calculado\n",
    "    \"CASE WHEN avaliacao > 4 THEN 'ACIMA DA MEDIA' ELSE 'ABAIXO DA MEDIA' END as acima_media\", # Adiciona uma nova coluna definindo se o funcionário está acima da média (> 4) pela avaliação\n",
    "    \"CASE WHEN localidade = 'São Paulo' THEN 'SÃO PAULO' ELSE 'OUTRO LUGAR' END as localidade_sao_paulo\", # Calcula se o funcionário é de São Paulo ou não\n",
    "    \"(salario * 1.1) as salario_ajustado\", # Criando uma nova coluna \"salario_ajustado\" que é 10% maior que o salário atual\n",
    "    \"CASE WHEN salario > 80000 THEN 'ALTO SALARIO' ELSE 'BAIXO SALARIO' END as nivel_salario\" # Exemplo: se o salário for maior que 80000, o funcionário é considerado \"ALTO SALÁRIO\", caso contrário \"BAIXO SALÁRIO\"\n",
    ")\n",
    "\n",
    "df.show()"
   ]
  },
  {
   "cell_type": "markdown",
   "metadata": {},
   "source": [
    "# Uso da função \"col\" e sua utilidade em method chaining"
   ]
  },
  {
   "cell_type": "code",
   "execution_count": null,
   "metadata": {},
   "outputs": [
    {
     "name": "stdout",
     "output_type": "stream",
     "text": [
      "+---+--------------+---------------+-------+----------------+--------------+---------+-----+-------------+---------------+--------------------+----------------+-------------+\n",
      "| id|          nome|id_departamento|salario|data_contratacao|    localidade|avaliacao|bonus|salario_anual|    acima_media|localidade_sao_paulo|salario_ajustado|nivel_salario|\n",
      "+---+--------------+---------------+-------+----------------+--------------+---------+-----+-------------+---------------+--------------------+----------------+-------------+\n",
      "|  1|   Maria Silva|            101|  75000|      2019-05-15|     São Paulo|      4.2| 5000|       905000| ACIMA DA MEDIA|           SÃO PAULO|         82500.0|BAIXO SALARIO|\n",
      "|  2|   João Santos|            101|  85000|      2018-03-12|Rio de Janeiro|      4.7| 5000|      1025000| ACIMA DA MEDIA|         OUTRO LUGAR|         93500.0| ALTO SALARIO|\n",
      "|  3|  Ana Oliveira|            102|  65000|      2020-01-10|     São Paulo|      3.9| 5000|       785000|ABAIXO DA MEDIA|           SÃO PAULO|         71500.0|BAIXO SALARIO|\n",
      "|  4|  Carlos Souza|            103|  72000|      2019-08-22|Belo Horizonte|      4.5| 5000|       869000| ACIMA DA MEDIA|         OUTRO LUGAR|         79200.0|BAIXO SALARIO|\n",
      "|  5|  Juliana Lima|            104|  60000|      2021-02-18|     São Paulo|      4.0| 5000|       725000|ABAIXO DA MEDIA|           SÃO PAULO|         66000.0|BAIXO SALARIO|\n",
      "|  6|   Pedro Costa|            101|  90000|      2017-11-05|Rio de Janeiro|      4.8| 5000|      1085000| ACIMA DA MEDIA|         OUTRO LUGAR|         99000.0| ALTO SALARIO|\n",
      "|  7|Fernanda Alves|            102|  67000|      2020-03-20|     São Paulo|      4.1| 5000|       809000| ACIMA DA MEDIA|           SÃO PAULO|         73700.0|BAIXO SALARIO|\n",
      "|  8|Rafael Pereira|            103|  78000|      2018-07-14|Belo Horizonte|      4.6| 5000|       941000| ACIMA DA MEDIA|         OUTRO LUGAR|         85800.0|BAIXO SALARIO|\n",
      "|  9|Mariana Santos|            104|  62000|      2021-01-05|     São Paulo|      3.8| 5000|       749000|ABAIXO DA MEDIA|           SÃO PAULO|         68200.0|BAIXO SALARIO|\n",
      "| 10|Lucas Ferreira|            101|  82000|      2019-04-30|Rio de Janeiro|      4.3| 5000|       989000| ACIMA DA MEDIA|         OUTRO LUGAR|         90200.0| ALTO SALARIO|\n",
      "| 11|   Bianca Lima|            105|  70000|      2020-06-15|      Curitiba|      4.0| 5000|       845000|ABAIXO DA MEDIA|         OUTRO LUGAR|         77000.0|BAIXO SALARIO|\n",
      "| 12|Thiago Almeida|            106|  68000|      2019-07-20|      Brasília|      4.2| 5000|       821000| ACIMA DA MEDIA|         OUTRO LUGAR|         74800.0|BAIXO SALARIO|\n",
      "+---+--------------+---------------+-------+----------------+--------------+---------+-----+-------------+---------------+--------------------+----------------+-------------+\n",
      "\n"
     ]
    }
   ],
   "source": [
    "# A função \"col\" serve para referenciar colunas de forma mais legível, especialmente quando o nome da coluna contém espaços ou caracteres especiais.\n",
    "# Exemplo: df.select(F.col(\"nome da coluna\")) é equivalente a df.select(\"nome da coluna\")\n",
    "# Como recomendação pessoal, utilize sempre o col, pois ele ajuda a evitar erros de digitação e torna o código mais legível.\n",
    "# Como exemplo, iremos fazer a mesma transformação que fizemos anteriormente, mas agora utilizando o col + method chaining\n",
    "\n",
    "df = criar_dataframe_funcionarios()\n",
    "\n",
    "# Nota importante:\n",
    "# No PySpark, quando você transforma um DataFrame, o DataFrame original permanece inalterado.\n",
    "# Em vez disso, o PySpark gera um novo DataFrame com as transformações aplicadas.\n",
    "# Por isso, sempre que você aplicar uma transformação, é necessário atribuir o resultado\n",
    "# a uma nova variável ou atualizar a variável existente.\n",
    "# Quando utilizamos o encadeamento de métodos (method chaining), o resultado de cada\n",
    "# transformação é automaticamente passado para a próxima operação, permitindo que você\n",
    "# combine várias transformações em uma única linha de código.\n",
    "# Como cada transformação gera um novo DataFrame, se você precisar referenciar uma coluna\n",
    "# criada em uma transformação anterior, use a função col() para acessá-la. Isso acontece\n",
    "# porque o PySpark não reconhece as novas colunas se você tentar acessar usando df[\"nome_coluna\"]\n",
    "# ou df.nome_coluna.\n",
    "\n",
    "df = (\n",
    "    df\n",
    "    .withColumn(\"bonus\", F.lit(5000)) # Adiciona uma nova coluna com valor fixo\n",
    "    .withColumn(\"salario_anual\", F.col('salario') * 12) # Adiciona uma nova coluna com valor calculado\n",
    "    .withColumn(\"acima_media\", F.when(F.col('avaliacao') > 4, 'ACIMA DA MEDIA').otherwise('ABAIXO DA MEDIA')) # Adiciona uma nova coluna definindo se o funcionário está acima da média (> 4) pela avaliação\n",
    "    .withColumn(\"localidade_sao_paulo\", F.when(F.col('localidade') == \"São Paulo\", \"SÃO PAULO\").otherwise(\"OUTRO LUGAR\")) # Calcula se o funcionário é de São Paulo ou não\n",
    "    .withColumn(\"salario_ajustado\", F.expr(\"salario * 1.1\")) # Criando uma nova coluna \"salario_ajustado\" que é 10% maior que o salário atual\n",
    "    .withColumn(\"nivel_salario\", F.expr(\"CASE WHEN salario > 80000 THEN 'ALTO SALARIO' ELSE 'BAIXO SALARIO' END\")) # Exemplo: se o salário for maior que 80000, o funcionário é considerado \"ALTO SALÁRIO\", caso contrário \"BAIXO SALÁRIO\"\n",
    ")\n",
    "\n",
    "df.show()"
   ]
  },
  {
   "cell_type": "markdown",
   "metadata": {},
   "source": [
    "# Filtros"
   ]
  },
  {
   "cell_type": "code",
   "execution_count": 43,
   "metadata": {},
   "outputs": [
    {
     "name": "stdout",
     "output_type": "stream",
     "text": [
      "+---+--------------+---------------+-------+----------------+--------------+---------+\n",
      "| id|          nome|id_departamento|salario|data_contratacao|    localidade|avaliacao|\n",
      "+---+--------------+---------------+-------+----------------+--------------+---------+\n",
      "|  2|   João Santos|            101|  85000|      2018-03-12|Rio de Janeiro|      4.7|\n",
      "|  6|   Pedro Costa|            101|  90000|      2017-11-05|Rio de Janeiro|      4.8|\n",
      "| 10|Lucas Ferreira|            101|  82000|      2019-04-30|Rio de Janeiro|      4.3|\n",
      "+---+--------------+---------------+-------+----------------+--------------+---------+\n",
      "\n"
     ]
    }
   ],
   "source": [
    "# Para filtrar os dados, podemos usar o método filter ou where. Ambos são equivalentes e podem ser usados de forma intercambiável.\n",
    "\n",
    "# 1. com filter - O método filter é usado para filtrar linhas em um DataFrame com base em uma condição específica. Ele retorna um novo DataFrame contendo apenas as linhas que atendem à condição especificada.\n",
    "df = criar_dataframe_funcionarios()\n",
    "\n",
    "# Filtrando os funcionários com salário maior que 80000\n",
    "df = df.filter(F.col(\"salario\") > 80000)\n",
    "\n",
    "df.show()"
   ]
  },
  {
   "cell_type": "code",
   "execution_count": 44,
   "metadata": {},
   "outputs": [
    {
     "name": "stdout",
     "output_type": "stream",
     "text": [
      "+---+--------------+---------------+-------+----------------+--------------+---------+\n",
      "| id|          nome|id_departamento|salario|data_contratacao|    localidade|avaliacao|\n",
      "+---+--------------+---------------+-------+----------------+--------------+---------+\n",
      "|  2|   João Santos|            101|  85000|      2018-03-12|Rio de Janeiro|      4.7|\n",
      "|  6|   Pedro Costa|            101|  90000|      2017-11-05|Rio de Janeiro|      4.8|\n",
      "| 10|Lucas Ferreira|            101|  82000|      2019-04-30|Rio de Janeiro|      4.3|\n",
      "+---+--------------+---------------+-------+----------------+--------------+---------+\n",
      "\n"
     ]
    }
   ],
   "source": [
    "# 2. com where - O método where é semelhante ao filter e pode ser usado para filtrar linhas em um DataFrame com base em uma condição específica. \n",
    "# A principal diferença é que o where é mais comumente usado em consultas SQL, enquanto o filter é mais comum em operações de DataFrame.\n",
    "\n",
    "df = criar_dataframe_funcionarios()\n",
    "\n",
    "# Filtrando os funcionários com salário maior que 80000\n",
    "df = df.where(F.col(\"salario\") > 80000)\n",
    "df.show()\n"
   ]
  },
  {
   "cell_type": "code",
   "execution_count": 45,
   "metadata": {},
   "outputs": [
    {
     "name": "stdout",
     "output_type": "stream",
     "text": [
      "+---+--------------+---------------+-------+----------------+--------------+---------+\n",
      "| id|          nome|id_departamento|salario|data_contratacao|    localidade|avaliacao|\n",
      "+---+--------------+---------------+-------+----------------+--------------+---------+\n",
      "|  2|   João Santos|            101|  85000|      2018-03-12|Rio de Janeiro|      4.7|\n",
      "|  6|   Pedro Costa|            101|  90000|      2017-11-05|Rio de Janeiro|      4.8|\n",
      "| 10|Lucas Ferreira|            101|  82000|      2019-04-30|Rio de Janeiro|      4.3|\n",
      "+---+--------------+---------------+-------+----------------+--------------+---------+\n",
      "\n"
     ]
    }
   ],
   "source": [
    "# 3. Se deseja uma condição mais complexa, você pode usar o método filter com expressões compostas.\n",
    "\n",
    "df = criar_dataframe_funcionarios()\n",
    "\n",
    "# Filtrando os funcionários com salário maior que 80000 E avaliação maior que 4\n",
    "df = df.filter((F.col(\"salario\") > 80000) & (F.col(\"avaliacao\") > 4))\n",
    "df.show()\n",
    "\n"
   ]
  },
  {
   "cell_type": "code",
   "execution_count": 46,
   "metadata": {},
   "outputs": [
    {
     "name": "stdout",
     "output_type": "stream",
     "text": [
      "+---+--------------+---------------+-------+----------------+--------------+---------+\n",
      "| id|          nome|id_departamento|salario|data_contratacao|    localidade|avaliacao|\n",
      "+---+--------------+---------------+-------+----------------+--------------+---------+\n",
      "|  1|   Maria Silva|            101|  75000|      2019-05-15|     São Paulo|      4.2|\n",
      "|  2|   João Santos|            101|  85000|      2018-03-12|Rio de Janeiro|      4.7|\n",
      "|  3|  Ana Oliveira|            102|  65000|      2020-01-10|     São Paulo|      3.9|\n",
      "|  5|  Juliana Lima|            104|  60000|      2021-02-18|     São Paulo|      4.0|\n",
      "|  6|   Pedro Costa|            101|  90000|      2017-11-05|Rio de Janeiro|      4.8|\n",
      "|  7|Fernanda Alves|            102|  67000|      2020-03-20|     São Paulo|      4.1|\n",
      "|  9|Mariana Santos|            104|  62000|      2021-01-05|     São Paulo|      3.8|\n",
      "| 10|Lucas Ferreira|            101|  82000|      2019-04-30|Rio de Janeiro|      4.3|\n",
      "+---+--------------+---------------+-------+----------------+--------------+---------+\n",
      "\n"
     ]
    }
   ],
   "source": [
    "df = criar_dataframe_funcionarios()\n",
    "\n",
    "# Filtrando os funcionários com salário maior que 80000 OU localidade seja são paulo\n",
    "\n",
    "df = df.filter((F.col(\"salario\") > 80000) | (F.col(\"localidade\") == \"São Paulo\"))\n",
    "df.show()\n"
   ]
  },
  {
   "cell_type": "code",
   "execution_count": null,
   "metadata": {},
   "outputs": [
    {
     "name": "stdout",
     "output_type": "stream",
     "text": [
      "+---+--------------+---------------+-------+----------------+--------------+---------+\n",
      "| id|          nome|id_departamento|salario|data_contratacao|    localidade|avaliacao|\n",
      "+---+--------------+---------------+-------+----------------+--------------+---------+\n",
      "|  2|   João Santos|            101|  85000|      2018-03-12|Rio de Janeiro|      4.7|\n",
      "|  6|   Pedro Costa|            101|  90000|      2017-11-05|Rio de Janeiro|      4.8|\n",
      "| 10|Lucas Ferreira|            101|  82000|      2019-04-30|Rio de Janeiro|      4.3|\n",
      "+---+--------------+---------------+-------+----------------+--------------+---------+\n",
      "\n"
     ]
    }
   ],
   "source": [
    "# Se prefere uma abordagem parecida com SQL, voce pode usar o método where com expressões compostas em string.\n",
    "\n",
    "df = criar_dataframe_funcionarios()\n",
    "\n",
    "# Fitlrando os funcionários com salário maior que 80000 E avaliação maior que 4\n",
    "df = df.filter('salario > 80000 AND avaliacao > 4')\n",
    "df.show()"
   ]
  },
  {
   "cell_type": "markdown",
   "metadata": {},
   "source": [
    "# Group By"
   ]
  },
  {
   "cell_type": "code",
   "execution_count": 48,
   "metadata": {},
   "outputs": [
    {
     "name": "stderr",
     "output_type": "stream",
     "text": [
      "[Stage 133:=========>                                             (2 + 10) / 12]\r"
     ]
    },
    {
     "name": "stdout",
     "output_type": "stream",
     "text": [
      "+---------------+----------------+-------------+----------------+----------------+\n",
      "|id_departamento|num_funcionarios|salario_medio|avaliacao_maxima|avaliacao_minima|\n",
      "+---------------+----------------+-------------+----------------+----------------+\n",
      "|            101|               4|      83000.0|             4.8|             4.2|\n",
      "|            102|               2|      66000.0|             4.1|             3.9|\n",
      "|            103|               2|      75000.0|             4.6|             4.5|\n",
      "|            104|               2|      61000.0|             4.0|             3.8|\n",
      "|            105|               1|      70000.0|             4.0|             4.0|\n",
      "|            106|               1|      68000.0|             4.2|             4.2|\n",
      "+---------------+----------------+-------------+----------------+----------------+\n",
      "\n"
     ]
    },
    {
     "name": "stderr",
     "output_type": "stream",
     "text": [
      "                                                                                \r"
     ]
    }
   ],
   "source": [
    "# Para fazer agrupamentos e agregações, utilizamos o método groupBy() seguido de funções de agregação como count(), sum(), avg(), min(), max(), etc.\n",
    "df = criar_dataframe_funcionarios()\n",
    "\n",
    "# Exemplo: Contar o número de funcionários por departamento\n",
    "\n",
    "df = (\n",
    "    df.groupBy(\"id_departamento\")\n",
    "    .agg(\n",
    "        F.count(\"*\").alias(\"num_funcionarios\"), # Conta o número de funcionários por departamento\n",
    "        F.avg(\"salario\").alias(\"salario_medio\"), # Calcula o salário médio por departamento\n",
    "        F.max(\"avaliacao\").alias(\"avaliacao_maxima\"), # Encontra a avaliação máxima por departamento\n",
    "        F.min(\"avaliacao\").alias(\"avaliacao_minima\") # Encontra a avaliação mínima por departamento\n",
    "    )\n",
    ")\n",
    "\n",
    "df.show()"
   ]
  },
  {
   "cell_type": "code",
   "execution_count": 49,
   "metadata": {},
   "outputs": [
    {
     "name": "stderr",
     "output_type": "stream",
     "text": [
      "[Stage 136:================================>                       (7 + 5) / 12]\r"
     ]
    },
    {
     "name": "stdout",
     "output_type": "stream",
     "text": [
      "+---------------+--------------+----------------+-----------------+----------------+----------------+\n",
      "|id_departamento|    localidade|num_funcionarios|    salario_medio|avaliacao_maxima|avaliacao_minima|\n",
      "+---------------+--------------+----------------+-----------------+----------------+----------------+\n",
      "|            101|     São Paulo|               1|          75000.0|             4.2|             4.2|\n",
      "|            101|Rio de Janeiro|               3|85666.66666666667|             4.8|             4.3|\n",
      "|            102|     São Paulo|               2|          66000.0|             4.1|             3.9|\n",
      "|            103|Belo Horizonte|               2|          75000.0|             4.6|             4.5|\n",
      "|            104|     São Paulo|               2|          61000.0|             4.0|             3.8|\n",
      "|            105|      Curitiba|               1|          70000.0|             4.0|             4.0|\n",
      "|            106|      Brasília|               1|          68000.0|             4.2|             4.2|\n",
      "+---------------+--------------+----------------+-----------------+----------------+----------------+\n",
      "\n"
     ]
    },
    {
     "name": "stderr",
     "output_type": "stream",
     "text": [
      "                                                                                \r"
     ]
    }
   ],
   "source": [
    "# Podemos agrupar por mais de uma coluna, por exemplo, agrupando por departamento e localidade\n",
    "df = criar_dataframe_funcionarios()\n",
    "\n",
    "df = (\n",
    "    df.groupBy(\"id_departamento\", \"localidade\")\n",
    "    .agg(\n",
    "        F.count(\"*\").alias(\"num_funcionarios\"), # Conta o número de funcionários por departamento e localidade\n",
    "        F.avg(\"salario\").alias(\"salario_medio\"), # Calcula o salário médio por departamento e localidade\n",
    "        F.max(\"avaliacao\").alias(\"avaliacao_maxima\"), # Encontra a avaliação máxima por departamento e localidade\n",
    "        F.min(\"avaliacao\").alias(\"avaliacao_minima\") # Encontra a avaliação mínima por departamento e localidade\n",
    "    )\n",
    ")\n",
    "\n",
    "df.show()"
   ]
  },
  {
   "cell_type": "code",
   "execution_count": 50,
   "metadata": {},
   "outputs": [
    {
     "name": "stderr",
     "output_type": "stream",
     "text": [
      "[Stage 139:=====================================>                  (8 + 4) / 12]\r"
     ]
    },
    {
     "name": "stdout",
     "output_type": "stream",
     "text": [
      "+---------------+----------------+-------------+----------------+----------------+\n",
      "|id_departamento|num_funcionarios|salario_medio|avaliacao_maxima|avaliacao_minima|\n",
      "+---------------+----------------+-------------+----------------+----------------+\n",
      "|            101|               4|      83000.0|             4.8|             4.2|\n",
      "|            102|               2|      66000.0|             4.1|             3.9|\n",
      "|            103|               2|      75000.0|             4.6|             4.5|\n",
      "|            104|               2|      61000.0|             4.0|             3.8|\n",
      "|            105|               1|      70000.0|             4.0|             4.0|\n",
      "|            106|               1|      68000.0|             4.2|             4.2|\n",
      "+---------------+----------------+-------------+----------------+----------------+\n",
      "\n"
     ]
    },
    {
     "name": "stderr",
     "output_type": "stream",
     "text": [
      "                                                                                \r"
     ]
    }
   ],
   "source": [
    "# Prefere usar expressões SQL? Você pode usar a função expr() para criar expressões SQL diretamente no PySpark.\n",
    "\n",
    "df = criar_dataframe_funcionarios()\n",
    "\n",
    "df = (\n",
    "    df\n",
    "    .groupBy(\"id_departamento\")\n",
    "    .agg(\n",
    "        F.expr('COUNT(*) as num_funcionarios'),\n",
    "        F.expr('AVG(salario) as salario_medio'),\n",
    "        F.expr('MAX(avaliacao) as avaliacao_maxima'),\n",
    "        F.expr('MIN(avaliacao) as avaliacao_minima')\n",
    "    )\n",
    ")\n",
    "\n",
    "df.show()"
   ]
  },
  {
   "cell_type": "markdown",
   "metadata": {},
   "source": [
    "# Joins\n",
    "\n",
    "O Spark possui nativamente diversos tipos de joins, a seguir um exemplo de cada um."
   ]
  },
  {
   "cell_type": "code",
   "execution_count": 51,
   "metadata": {},
   "outputs": [],
   "source": [
    "df_funcionarios = criar_dataframe_funcionarios()\n",
    "df_departamentos = criar_dataframe_departamentos()"
   ]
  },
  {
   "cell_type": "code",
   "execution_count": null,
   "metadata": {},
   "outputs": [
    {
     "name": "stderr",
     "output_type": "stream",
     "text": [
      "[Stage 143:==============>                                         (3 + 9) / 12]\r"
     ]
    },
    {
     "name": "stdout",
     "output_type": "stream",
     "text": [
      "+---+--------------+---------------+-------+----------------+--------------+---------+---+----------------+---------------+----------------+-----------+\n",
      "| id|          nome|id_departamento|salario|data_contratacao|    localidade|avaliacao| id|            nome|        diretor|num_funcionarios|localizacao|\n",
      "+---+--------------+---------------+-------+----------------+--------------+---------+---+----------------+---------------+----------------+-----------+\n",
      "|  1|   Maria Silva|            101|  75000|      2019-05-15|     São Paulo|      4.2|101|      Engenharia|  Carlos Mendes|              15|   Prédio A|\n",
      "|  2|   João Santos|            101|  85000|      2018-03-12|Rio de Janeiro|      4.7|101|      Engenharia|  Carlos Mendes|              15|   Prédio A|\n",
      "|  6|   Pedro Costa|            101|  90000|      2017-11-05|Rio de Janeiro|      4.8|101|      Engenharia|  Carlos Mendes|              15|   Prédio A|\n",
      "| 10|Lucas Ferreira|            101|  82000|      2019-04-30|Rio de Janeiro|      4.3|101|      Engenharia|  Carlos Mendes|              15|   Prédio A|\n",
      "|  3|  Ana Oliveira|            102|  65000|      2020-01-10|     São Paulo|      3.9|102|       Marketing|   Amanda Rocha|               8|   Prédio B|\n",
      "|  7|Fernanda Alves|            102|  67000|      2020-03-20|     São Paulo|      4.1|102|       Marketing|   Amanda Rocha|               8|   Prédio B|\n",
      "|  4|  Carlos Souza|            103|  72000|      2019-08-22|Belo Horizonte|      4.5|103|          Vendas|  Roberto Alves|              12|   Prédio C|\n",
      "|  8|Rafael Pereira|            103|  78000|      2018-07-14|Belo Horizonte|      4.6|103|          Vendas|  Roberto Alves|              12|   Prédio C|\n",
      "|  5|  Juliana Lima|            104|  60000|      2021-02-18|     São Paulo|      4.0|104|Recursos Humanos|Camila Ferreira|               5|   Prédio A|\n",
      "|  9|Mariana Santos|            104|  62000|      2021-01-05|     São Paulo|      3.8|104|Recursos Humanos|Camila Ferreira|               5|   Prédio A|\n",
      "+---+--------------+---------------+-------+----------------+--------------+---------+---+----------------+---------------+----------------+-----------+\n",
      "\n"
     ]
    },
    {
     "name": "stderr",
     "output_type": "stream",
     "text": [
      "                                                                                \r"
     ]
    }
   ],
   "source": [
    "# Inner Join: retorna um dataframe com as linhas que têm correspondência em ambos os dataframes.\n",
    "# Obs: como o join é feito entre dois dataframes, o uso da função \"col\" não é recomendado.\n",
    "\n",
    "df_join = df_funcionarios.join(df_departamentos, df_funcionarios['id_departamento'] == df_departamentos['id'], \"inner\")\n",
    "df_join.show()"
   ]
  },
  {
   "cell_type": "code",
   "execution_count": 53,
   "metadata": {},
   "outputs": [
    {
     "name": "stderr",
     "output_type": "stream",
     "text": [
      "                                                                                \r"
     ]
    },
    {
     "name": "stdout",
     "output_type": "stream",
     "text": [
      "+---+--------------+---------------+-------+----------------+--------------+---------+----+----------------+---------------+----------------+-----------+\n",
      "| id|          nome|id_departamento|salario|data_contratacao|    localidade|avaliacao|  id|            nome|        diretor|num_funcionarios|localizacao|\n",
      "+---+--------------+---------------+-------+----------------+--------------+---------+----+----------------+---------------+----------------+-----------+\n",
      "|  1|   Maria Silva|            101|  75000|      2019-05-15|     São Paulo|      4.2| 101|      Engenharia|  Carlos Mendes|              15|   Prédio A|\n",
      "|  2|   João Santos|            101|  85000|      2018-03-12|Rio de Janeiro|      4.7| 101|      Engenharia|  Carlos Mendes|              15|   Prédio A|\n",
      "|  3|  Ana Oliveira|            102|  65000|      2020-01-10|     São Paulo|      3.9| 102|       Marketing|   Amanda Rocha|               8|   Prédio B|\n",
      "|  4|  Carlos Souza|            103|  72000|      2019-08-22|Belo Horizonte|      4.5| 103|          Vendas|  Roberto Alves|              12|   Prédio C|\n",
      "|  5|  Juliana Lima|            104|  60000|      2021-02-18|     São Paulo|      4.0| 104|Recursos Humanos|Camila Ferreira|               5|   Prédio A|\n",
      "|  6|   Pedro Costa|            101|  90000|      2017-11-05|Rio de Janeiro|      4.8| 101|      Engenharia|  Carlos Mendes|              15|   Prédio A|\n",
      "|  7|Fernanda Alves|            102|  67000|      2020-03-20|     São Paulo|      4.1| 102|       Marketing|   Amanda Rocha|               8|   Prédio B|\n",
      "|  8|Rafael Pereira|            103|  78000|      2018-07-14|Belo Horizonte|      4.6| 103|          Vendas|  Roberto Alves|              12|   Prédio C|\n",
      "|  9|Mariana Santos|            104|  62000|      2021-01-05|     São Paulo|      3.8| 104|Recursos Humanos|Camila Ferreira|               5|   Prédio A|\n",
      "| 10|Lucas Ferreira|            101|  82000|      2019-04-30|Rio de Janeiro|      4.3| 101|      Engenharia|  Carlos Mendes|              15|   Prédio A|\n",
      "| 11|   Bianca Lima|            105|  70000|      2020-06-15|      Curitiba|      4.0|NULL|            NULL|           NULL|            NULL|       NULL|\n",
      "| 12|Thiago Almeida|            106|  68000|      2019-07-20|      Brasília|      4.2|NULL|            NULL|           NULL|            NULL|       NULL|\n",
      "+---+--------------+---------------+-------+----------------+--------------+---------+----+----------------+---------------+----------------+-----------+\n",
      "\n"
     ]
    }
   ],
   "source": [
    "# Left Join: retorna todas as linhas do dataframe da esquerda e as linhas correspondentes do dataframe da direita. \n",
    "# Se não houver correspondência, os valores do dataframe da direita serão nulos.\n",
    "\n",
    "df_join = df_funcionarios.join(df_departamentos, df_funcionarios['id_departamento'] == df_departamentos['id'], \"left\")\n",
    "df_join.show()"
   ]
  },
  {
   "cell_type": "code",
   "execution_count": 54,
   "metadata": {},
   "outputs": [
    {
     "name": "stderr",
     "output_type": "stream",
     "text": [
      "                                                                                \r"
     ]
    },
    {
     "name": "stdout",
     "output_type": "stream",
     "text": [
      "+----+--------------+---------------+-------+----------------+--------------+---------+---+----------------+---------------+----------------+-----------+\n",
      "|  id|          nome|id_departamento|salario|data_contratacao|    localidade|avaliacao| id|            nome|        diretor|num_funcionarios|localizacao|\n",
      "+----+--------------+---------------+-------+----------------+--------------+---------+---+----------------+---------------+----------------+-----------+\n",
      "|  10|Lucas Ferreira|            101|  82000|      2019-04-30|Rio de Janeiro|      4.3|101|      Engenharia|  Carlos Mendes|              15|   Prédio A|\n",
      "|   6|   Pedro Costa|            101|  90000|      2017-11-05|Rio de Janeiro|      4.8|101|      Engenharia|  Carlos Mendes|              15|   Prédio A|\n",
      "|   2|   João Santos|            101|  85000|      2018-03-12|Rio de Janeiro|      4.7|101|      Engenharia|  Carlos Mendes|              15|   Prédio A|\n",
      "|   1|   Maria Silva|            101|  75000|      2019-05-15|     São Paulo|      4.2|101|      Engenharia|  Carlos Mendes|              15|   Prédio A|\n",
      "|   7|Fernanda Alves|            102|  67000|      2020-03-20|     São Paulo|      4.1|102|       Marketing|   Amanda Rocha|               8|   Prédio B|\n",
      "|   3|  Ana Oliveira|            102|  65000|      2020-01-10|     São Paulo|      3.9|102|       Marketing|   Amanda Rocha|               8|   Prédio B|\n",
      "|   8|Rafael Pereira|            103|  78000|      2018-07-14|Belo Horizonte|      4.6|103|          Vendas|  Roberto Alves|              12|   Prédio C|\n",
      "|   4|  Carlos Souza|            103|  72000|      2019-08-22|Belo Horizonte|      4.5|103|          Vendas|  Roberto Alves|              12|   Prédio C|\n",
      "|   9|Mariana Santos|            104|  62000|      2021-01-05|     São Paulo|      3.8|104|Recursos Humanos|Camila Ferreira|               5|   Prédio A|\n",
      "|   5|  Juliana Lima|            104|  60000|      2021-02-18|     São Paulo|      4.0|104|Recursos Humanos|Camila Ferreira|               5|   Prédio A|\n",
      "|NULL|          NULL|           NULL|   NULL|            NULL|          NULL|     NULL|107|      Financeiro| Marcelo Santos|               7|   Prédio B|\n",
      "|NULL|          NULL|           NULL|   NULL|            NULL|          NULL|     NULL|108|        Jurídico|  Patricia Lima|               3|   Prédio C|\n",
      "+----+--------------+---------------+-------+----------------+--------------+---------+---+----------------+---------------+----------------+-----------+\n",
      "\n"
     ]
    }
   ],
   "source": [
    "# Right Join: retorna todas as linhas do dataframe da direita e as linhas correspondentes do dataframe da esquerda. \n",
    "# Se não houver correspondência, os valores do dataframe da esquerda serão nulos.\n",
    "\n",
    "df_join = df_funcionarios.join(df_departamentos, df_funcionarios['id_departamento'] == df_departamentos['id'], \"right\")\n",
    "df_join.show()"
   ]
  },
  {
   "cell_type": "code",
   "execution_count": 55,
   "metadata": {},
   "outputs": [
    {
     "name": "stderr",
     "output_type": "stream",
     "text": [
      "[Stage 160:=============================================>         (10 + 2) / 12]\r"
     ]
    },
    {
     "name": "stdout",
     "output_type": "stream",
     "text": [
      "+----+--------------+---------------+-------+----------------+--------------+---------+----+----------------+---------------+----------------+-----------+\n",
      "|  id|          nome|id_departamento|salario|data_contratacao|    localidade|avaliacao|  id|            nome|        diretor|num_funcionarios|localizacao|\n",
      "+----+--------------+---------------+-------+----------------+--------------+---------+----+----------------+---------------+----------------+-----------+\n",
      "|   1|   Maria Silva|            101|  75000|      2019-05-15|     São Paulo|      4.2| 101|      Engenharia|  Carlos Mendes|              15|   Prédio A|\n",
      "|   2|   João Santos|            101|  85000|      2018-03-12|Rio de Janeiro|      4.7| 101|      Engenharia|  Carlos Mendes|              15|   Prédio A|\n",
      "|   6|   Pedro Costa|            101|  90000|      2017-11-05|Rio de Janeiro|      4.8| 101|      Engenharia|  Carlos Mendes|              15|   Prédio A|\n",
      "|  10|Lucas Ferreira|            101|  82000|      2019-04-30|Rio de Janeiro|      4.3| 101|      Engenharia|  Carlos Mendes|              15|   Prédio A|\n",
      "|   3|  Ana Oliveira|            102|  65000|      2020-01-10|     São Paulo|      3.9| 102|       Marketing|   Amanda Rocha|               8|   Prédio B|\n",
      "|   7|Fernanda Alves|            102|  67000|      2020-03-20|     São Paulo|      4.1| 102|       Marketing|   Amanda Rocha|               8|   Prédio B|\n",
      "|   4|  Carlos Souza|            103|  72000|      2019-08-22|Belo Horizonte|      4.5| 103|          Vendas|  Roberto Alves|              12|   Prédio C|\n",
      "|   8|Rafael Pereira|            103|  78000|      2018-07-14|Belo Horizonte|      4.6| 103|          Vendas|  Roberto Alves|              12|   Prédio C|\n",
      "|   5|  Juliana Lima|            104|  60000|      2021-02-18|     São Paulo|      4.0| 104|Recursos Humanos|Camila Ferreira|               5|   Prédio A|\n",
      "|   9|Mariana Santos|            104|  62000|      2021-01-05|     São Paulo|      3.8| 104|Recursos Humanos|Camila Ferreira|               5|   Prédio A|\n",
      "|  11|   Bianca Lima|            105|  70000|      2020-06-15|      Curitiba|      4.0|NULL|            NULL|           NULL|            NULL|       NULL|\n",
      "|  12|Thiago Almeida|            106|  68000|      2019-07-20|      Brasília|      4.2|NULL|            NULL|           NULL|            NULL|       NULL|\n",
      "|NULL|          NULL|           NULL|   NULL|            NULL|          NULL|     NULL| 107|      Financeiro| Marcelo Santos|               7|   Prédio B|\n",
      "|NULL|          NULL|           NULL|   NULL|            NULL|          NULL|     NULL| 108|        Jurídico|  Patricia Lima|               3|   Prédio C|\n",
      "+----+--------------+---------------+-------+----------------+--------------+---------+----+----------------+---------------+----------------+-----------+\n",
      "\n"
     ]
    },
    {
     "name": "stderr",
     "output_type": "stream",
     "text": [
      "                                                                                \r"
     ]
    }
   ],
   "source": [
    "# Full Outer Join: retorna todas as linhas de ambos os dataframes.\n",
    "# Se não houver correspondência, os valores do dataframe correspondente serão nulos.\n",
    "\n",
    "df_join = df_funcionarios.join(df_departamentos, df_funcionarios['id_departamento'] == df_departamentos['id'], \"full\")\n",
    "df_join.show()"
   ]
  },
  {
   "cell_type": "code",
   "execution_count": 56,
   "metadata": {},
   "outputs": [
    {
     "name": "stderr",
     "output_type": "stream",
     "text": [
      "[Stage 167:===============================================>       (25 + 4) / 29]\r"
     ]
    },
    {
     "name": "stdout",
     "output_type": "stream",
     "text": [
      "+---+------------+---------------+-------+----------------+--------------+---------+---+----------------+---------------+----------------+-----------+\n",
      "| id|        nome|id_departamento|salario|data_contratacao|    localidade|avaliacao| id|            nome|        diretor|num_funcionarios|localizacao|\n",
      "+---+------------+---------------+-------+----------------+--------------+---------+---+----------------+---------------+----------------+-----------+\n",
      "|  1| Maria Silva|            101|  75000|      2019-05-15|     São Paulo|      4.2|101|      Engenharia|  Carlos Mendes|              15|   Prédio A|\n",
      "|  1| Maria Silva|            101|  75000|      2019-05-15|     São Paulo|      4.2|102|       Marketing|   Amanda Rocha|               8|   Prédio B|\n",
      "|  1| Maria Silva|            101|  75000|      2019-05-15|     São Paulo|      4.2|103|          Vendas|  Roberto Alves|              12|   Prédio C|\n",
      "|  1| Maria Silva|            101|  75000|      2019-05-15|     São Paulo|      4.2|104|Recursos Humanos|Camila Ferreira|               5|   Prédio A|\n",
      "|  1| Maria Silva|            101|  75000|      2019-05-15|     São Paulo|      4.2|107|      Financeiro| Marcelo Santos|               7|   Prédio B|\n",
      "|  1| Maria Silva|            101|  75000|      2019-05-15|     São Paulo|      4.2|108|        Jurídico|  Patricia Lima|               3|   Prédio C|\n",
      "|  2| João Santos|            101|  85000|      2018-03-12|Rio de Janeiro|      4.7|101|      Engenharia|  Carlos Mendes|              15|   Prédio A|\n",
      "|  2| João Santos|            101|  85000|      2018-03-12|Rio de Janeiro|      4.7|102|       Marketing|   Amanda Rocha|               8|   Prédio B|\n",
      "|  2| João Santos|            101|  85000|      2018-03-12|Rio de Janeiro|      4.7|103|          Vendas|  Roberto Alves|              12|   Prédio C|\n",
      "|  2| João Santos|            101|  85000|      2018-03-12|Rio de Janeiro|      4.7|104|Recursos Humanos|Camila Ferreira|               5|   Prédio A|\n",
      "|  2| João Santos|            101|  85000|      2018-03-12|Rio de Janeiro|      4.7|107|      Financeiro| Marcelo Santos|               7|   Prédio B|\n",
      "|  2| João Santos|            101|  85000|      2018-03-12|Rio de Janeiro|      4.7|108|        Jurídico|  Patricia Lima|               3|   Prédio C|\n",
      "|  3|Ana Oliveira|            102|  65000|      2020-01-10|     São Paulo|      3.9|101|      Engenharia|  Carlos Mendes|              15|   Prédio A|\n",
      "|  3|Ana Oliveira|            102|  65000|      2020-01-10|     São Paulo|      3.9|102|       Marketing|   Amanda Rocha|               8|   Prédio B|\n",
      "|  3|Ana Oliveira|            102|  65000|      2020-01-10|     São Paulo|      3.9|103|          Vendas|  Roberto Alves|              12|   Prédio C|\n",
      "|  3|Ana Oliveira|            102|  65000|      2020-01-10|     São Paulo|      3.9|104|Recursos Humanos|Camila Ferreira|               5|   Prédio A|\n",
      "|  3|Ana Oliveira|            102|  65000|      2020-01-10|     São Paulo|      3.9|107|      Financeiro| Marcelo Santos|               7|   Prédio B|\n",
      "|  3|Ana Oliveira|            102|  65000|      2020-01-10|     São Paulo|      3.9|108|        Jurídico|  Patricia Lima|               3|   Prédio C|\n",
      "|  4|Carlos Souza|            103|  72000|      2019-08-22|Belo Horizonte|      4.5|101|      Engenharia|  Carlos Mendes|              15|   Prédio A|\n",
      "|  4|Carlos Souza|            103|  72000|      2019-08-22|Belo Horizonte|      4.5|102|       Marketing|   Amanda Rocha|               8|   Prédio B|\n",
      "+---+------------+---------------+-------+----------------+--------------+---------+---+----------------+---------------+----------------+-----------+\n",
      "only showing top 20 rows\n",
      "\n"
     ]
    },
    {
     "name": "stderr",
     "output_type": "stream",
     "text": [
      "                                                                                \r"
     ]
    }
   ],
   "source": [
    "# Cross Join: retorna o produto cartesiano dos dois dataframes, ou seja, combina todas as linhas do dataframe da esquerda com todas as linhas do dataframe da direita.\n",
    "df_join = df_funcionarios.crossJoin(df_departamentos)\n",
    "df_join.show()"
   ]
  },
  {
   "cell_type": "code",
   "execution_count": 57,
   "metadata": {},
   "outputs": [
    {
     "name": "stderr",
     "output_type": "stream",
     "text": [
      "[Stage 169:================================>                       (7 + 5) / 12]\r"
     ]
    },
    {
     "name": "stdout",
     "output_type": "stream",
     "text": [
      "+---+--------------+---------------+-------+----------------+--------------+---------+\n",
      "| id|          nome|id_departamento|salario|data_contratacao|    localidade|avaliacao|\n",
      "+---+--------------+---------------+-------+----------------+--------------+---------+\n",
      "|  1|   Maria Silva|            101|  75000|      2019-05-15|     São Paulo|      4.2|\n",
      "|  2|   João Santos|            101|  85000|      2018-03-12|Rio de Janeiro|      4.7|\n",
      "|  6|   Pedro Costa|            101|  90000|      2017-11-05|Rio de Janeiro|      4.8|\n",
      "| 10|Lucas Ferreira|            101|  82000|      2019-04-30|Rio de Janeiro|      4.3|\n",
      "|  3|  Ana Oliveira|            102|  65000|      2020-01-10|     São Paulo|      3.9|\n",
      "|  7|Fernanda Alves|            102|  67000|      2020-03-20|     São Paulo|      4.1|\n",
      "|  4|  Carlos Souza|            103|  72000|      2019-08-22|Belo Horizonte|      4.5|\n",
      "|  8|Rafael Pereira|            103|  78000|      2018-07-14|Belo Horizonte|      4.6|\n",
      "|  5|  Juliana Lima|            104|  60000|      2021-02-18|     São Paulo|      4.0|\n",
      "|  9|Mariana Santos|            104|  62000|      2021-01-05|     São Paulo|      3.8|\n",
      "+---+--------------+---------------+-------+----------------+--------------+---------+\n",
      "\n"
     ]
    },
    {
     "name": "stderr",
     "output_type": "stream",
     "text": [
      "                                                                                \r"
     ]
    }
   ],
   "source": [
    "# Semi Join: retorna todas as linhas do dataframe da esquerda que têm correspondência no dataframe da direita, mas não retorna colunas do dataframe da direita.\n",
    "\n",
    "df_join = df_funcionarios.join(df_departamentos, df_funcionarios['id_departamento'] == df_departamentos['id'], \"left_semi\")\n",
    "df_join.show()"
   ]
  },
  {
   "cell_type": "code",
   "execution_count": 58,
   "metadata": {},
   "outputs": [
    {
     "name": "stderr",
     "output_type": "stream",
     "text": [
      "                                                                                \r"
     ]
    },
    {
     "name": "stdout",
     "output_type": "stream",
     "text": [
      "+---+--------------+---------------+-------+----------------+----------+---------+\n",
      "| id|          nome|id_departamento|salario|data_contratacao|localidade|avaliacao|\n",
      "+---+--------------+---------------+-------+----------------+----------+---------+\n",
      "| 11|   Bianca Lima|            105|  70000|      2020-06-15|  Curitiba|      4.0|\n",
      "| 12|Thiago Almeida|            106|  68000|      2019-07-20|  Brasília|      4.2|\n",
      "+---+--------------+---------------+-------+----------------+----------+---------+\n",
      "\n"
     ]
    }
   ],
   "source": [
    "# Anti Join: retorna todas as linhas do dataframe da esquerda que não têm correspondência no dataframe da direita.\n",
    "df_join = df_funcionarios.join(df_departamentos, df_funcionarios['id_departamento'] == df_departamentos['id'], \"left_anti\")\n",
    "df_join.show()"
   ]
  },
  {
   "cell_type": "markdown",
   "metadata": {},
   "source": [
    "# Window Function"
   ]
  },
  {
   "cell_type": "code",
   "execution_count": null,
   "metadata": {},
   "outputs": [
    {
     "name": "stderr",
     "output_type": "stream",
     "text": [
      "25/04/02 17:43:41 WARN WindowExec: No Partition Defined for Window operation! Moving all data to a single partition, this can cause serious performance degradation.\n",
      "25/04/02 17:43:41 WARN WindowExec: No Partition Defined for Window operation! Moving all data to a single partition, this can cause serious performance degradation.\n",
      "25/04/02 17:43:41 WARN WindowExec: No Partition Defined for Window operation! Moving all data to a single partition, this can cause serious performance degradation.\n"
     ]
    },
    {
     "name": "stdout",
     "output_type": "stream",
     "text": [
      "+---+--------------+---------------+-------+----------------+--------------+---------+-----------------+\n",
      "| id|          nome|id_departamento|salario|data_contratacao|    localidade|avaliacao|    salario_medio|\n",
      "+---+--------------+---------------+-------+----------------+--------------+---------+-----------------+\n",
      "|  1|   Maria Silva|            101|  75000|      2019-05-15|     São Paulo|      4.2|72833.33333333333|\n",
      "|  2|   João Santos|            101|  85000|      2018-03-12|Rio de Janeiro|      4.7|72833.33333333333|\n",
      "|  3|  Ana Oliveira|            102|  65000|      2020-01-10|     São Paulo|      3.9|72833.33333333333|\n",
      "|  4|  Carlos Souza|            103|  72000|      2019-08-22|Belo Horizonte|      4.5|72833.33333333333|\n",
      "|  5|  Juliana Lima|            104|  60000|      2021-02-18|     São Paulo|      4.0|72833.33333333333|\n",
      "|  6|   Pedro Costa|            101|  90000|      2017-11-05|Rio de Janeiro|      4.8|72833.33333333333|\n",
      "|  7|Fernanda Alves|            102|  67000|      2020-03-20|     São Paulo|      4.1|72833.33333333333|\n",
      "|  8|Rafael Pereira|            103|  78000|      2018-07-14|Belo Horizonte|      4.6|72833.33333333333|\n",
      "|  9|Mariana Santos|            104|  62000|      2021-01-05|     São Paulo|      3.8|72833.33333333333|\n",
      "| 10|Lucas Ferreira|            101|  82000|      2019-04-30|Rio de Janeiro|      4.3|72833.33333333333|\n",
      "| 11|   Bianca Lima|            105|  70000|      2020-06-15|      Curitiba|      4.0|72833.33333333333|\n",
      "| 12|Thiago Almeida|            106|  68000|      2019-07-20|      Brasília|      4.2|72833.33333333333|\n",
      "+---+--------------+---------------+-------+----------------+--------------+---------+-----------------+\n",
      "\n"
     ]
    },
    {
     "name": "stderr",
     "output_type": "stream",
     "text": [
      "25/04/02 17:43:42 WARN WindowExec: No Partition Defined for Window operation! Moving all data to a single partition, this can cause serious performance degradation.\n",
      "25/04/02 17:43:42 WARN WindowExec: No Partition Defined for Window operation! Moving all data to a single partition, this can cause serious performance degradation.\n"
     ]
    }
   ],
   "source": [
    "# As funções de JANELA (window functions) permitem realizar cálculos em um conjunto de linhas relacionadas a uma linha atual, sem a necessidade de agrupar os dados.\n",
    "# Funciona da mesma que no SQL e seus casos de uso são os mesmos: usamos quando queremos calcular valores sem perder a granularidade dos dados.\n",
    "\n",
    "# Exemplo: calcular o salário médio de todos os funcionários, mas mantendo a granularidade dos dados\n",
    "\n",
    "from pyspark.sql import Window\n",
    "\n",
    "df = criar_dataframe_funcionarios()\n",
    "\n",
    "# Definindo a janela\n",
    "window = Window.partitionBy() # Sem partição, ou seja, considerando todos os dados\n",
    "# Aplicando a função de janela\n",
    "df = df.withColumn(\"salario_medio\", F.avg(\"salario\").over(window))\n",
    "df.show()\n",
    "\n",
    "\n"
   ]
  },
  {
   "cell_type": "code",
   "execution_count": 60,
   "metadata": {},
   "outputs": [
    {
     "name": "stderr",
     "output_type": "stream",
     "text": [
      "[Stage 182:==========================================>             (9 + 3) / 12]\r"
     ]
    },
    {
     "name": "stdout",
     "output_type": "stream",
     "text": [
      "+---+--------------+---------------+-------+----------------+--------------+---------+-----------------------------+\n",
      "| id|          nome|id_departamento|salario|data_contratacao|    localidade|avaliacao|salario_medio_do_departamento|\n",
      "+---+--------------+---------------+-------+----------------+--------------+---------+-----------------------------+\n",
      "|  1|   Maria Silva|            101|  75000|      2019-05-15|     São Paulo|      4.2|                      83000.0|\n",
      "|  2|   João Santos|            101|  85000|      2018-03-12|Rio de Janeiro|      4.7|                      83000.0|\n",
      "|  6|   Pedro Costa|            101|  90000|      2017-11-05|Rio de Janeiro|      4.8|                      83000.0|\n",
      "| 10|Lucas Ferreira|            101|  82000|      2019-04-30|Rio de Janeiro|      4.3|                      83000.0|\n",
      "|  3|  Ana Oliveira|            102|  65000|      2020-01-10|     São Paulo|      3.9|                      66000.0|\n",
      "|  7|Fernanda Alves|            102|  67000|      2020-03-20|     São Paulo|      4.1|                      66000.0|\n",
      "|  4|  Carlos Souza|            103|  72000|      2019-08-22|Belo Horizonte|      4.5|                      75000.0|\n",
      "|  8|Rafael Pereira|            103|  78000|      2018-07-14|Belo Horizonte|      4.6|                      75000.0|\n",
      "|  5|  Juliana Lima|            104|  60000|      2021-02-18|     São Paulo|      4.0|                      61000.0|\n",
      "|  9|Mariana Santos|            104|  62000|      2021-01-05|     São Paulo|      3.8|                      61000.0|\n",
      "| 11|   Bianca Lima|            105|  70000|      2020-06-15|      Curitiba|      4.0|                      70000.0|\n",
      "| 12|Thiago Almeida|            106|  68000|      2019-07-20|      Brasília|      4.2|                      68000.0|\n",
      "+---+--------------+---------------+-------+----------------+--------------+---------+-----------------------------+\n",
      "\n"
     ]
    },
    {
     "name": "stderr",
     "output_type": "stream",
     "text": [
      "                                                                                \r"
     ]
    }
   ],
   "source": [
    "# Usando função de janela com partição\n",
    "df = criar_dataframe_funcionarios()\n",
    "\n",
    "# Definindo a janela\n",
    "window = Window.partitionBy(\"id_departamento\") # Particionando por departamento\n",
    "# Aplicando a função de janela\n",
    "df = df.withColumn(\"salario_medio_do_departamento\", F.avg(\"salario\").over(window))\n",
    "df.show()\n"
   ]
  },
  {
   "cell_type": "code",
   "execution_count": 61,
   "metadata": {},
   "outputs": [
    {
     "name": "stdout",
     "output_type": "stream",
     "text": [
      "+---+--------------+---------------+-------+----------------+--------------+---------+-----------------------------+\n",
      "| id|          nome|id_departamento|salario|data_contratacao|    localidade|avaliacao|salario_medio_do_departamento|\n",
      "+---+--------------+---------------+-------+----------------+--------------+---------+-----------------------------+\n",
      "|  1|   Maria Silva|            101|  75000|      2019-05-15|     São Paulo|      4.2|                      83000.0|\n",
      "|  2|   João Santos|            101|  85000|      2018-03-12|Rio de Janeiro|      4.7|                      83000.0|\n",
      "|  6|   Pedro Costa|            101|  90000|      2017-11-05|Rio de Janeiro|      4.8|                      83000.0|\n",
      "| 10|Lucas Ferreira|            101|  82000|      2019-04-30|Rio de Janeiro|      4.3|                      83000.0|\n",
      "|  3|  Ana Oliveira|            102|  65000|      2020-01-10|     São Paulo|      3.9|                      66000.0|\n",
      "|  7|Fernanda Alves|            102|  67000|      2020-03-20|     São Paulo|      4.1|                      66000.0|\n",
      "|  4|  Carlos Souza|            103|  72000|      2019-08-22|Belo Horizonte|      4.5|                      75000.0|\n",
      "|  8|Rafael Pereira|            103|  78000|      2018-07-14|Belo Horizonte|      4.6|                      75000.0|\n",
      "|  5|  Juliana Lima|            104|  60000|      2021-02-18|     São Paulo|      4.0|                      61000.0|\n",
      "|  9|Mariana Santos|            104|  62000|      2021-01-05|     São Paulo|      3.8|                      61000.0|\n",
      "| 11|   Bianca Lima|            105|  70000|      2020-06-15|      Curitiba|      4.0|                      70000.0|\n",
      "| 12|Thiago Almeida|            106|  68000|      2019-07-20|      Brasília|      4.2|                      68000.0|\n",
      "+---+--------------+---------------+-------+----------------+--------------+---------+-----------------------------+\n",
      "\n"
     ]
    }
   ],
   "source": [
    "# Também podemos utilizar SQL para aplicar as funcões de janela\n",
    "\n",
    "df = criar_dataframe_funcionarios()\n",
    "\n",
    "df = (\n",
    "    df\n",
    "    .selectExpr(\n",
    "        \"*\",\n",
    "        \"AVG(salario) OVER (PARTITION BY id_departamento) as salario_medio_do_departamento\" # Particionando por departamento\n",
    "    )\n",
    ")\n",
    "\n",
    "df.show()"
   ]
  },
  {
   "cell_type": "code",
   "execution_count": 62,
   "metadata": {},
   "outputs": [
    {
     "name": "stdout",
     "output_type": "stream",
     "text": [
      "+---+--------------+---------------+-------+----------------+--------------+---------+-----------------------------+\n",
      "| id|          nome|id_departamento|salario|data_contratacao|    localidade|avaliacao|salario_medio_do_departamento|\n",
      "+---+--------------+---------------+-------+----------------+--------------+---------+-----------------------------+\n",
      "|  1|   Maria Silva|            101|  75000|      2019-05-15|     São Paulo|      4.2|                      83000.0|\n",
      "|  2|   João Santos|            101|  85000|      2018-03-12|Rio de Janeiro|      4.7|                      83000.0|\n",
      "|  6|   Pedro Costa|            101|  90000|      2017-11-05|Rio de Janeiro|      4.8|                      83000.0|\n",
      "| 10|Lucas Ferreira|            101|  82000|      2019-04-30|Rio de Janeiro|      4.3|                      83000.0|\n",
      "|  3|  Ana Oliveira|            102|  65000|      2020-01-10|     São Paulo|      3.9|                      66000.0|\n",
      "|  7|Fernanda Alves|            102|  67000|      2020-03-20|     São Paulo|      4.1|                      66000.0|\n",
      "|  4|  Carlos Souza|            103|  72000|      2019-08-22|Belo Horizonte|      4.5|                      75000.0|\n",
      "|  8|Rafael Pereira|            103|  78000|      2018-07-14|Belo Horizonte|      4.6|                      75000.0|\n",
      "|  5|  Juliana Lima|            104|  60000|      2021-02-18|     São Paulo|      4.0|                      61000.0|\n",
      "|  9|Mariana Santos|            104|  62000|      2021-01-05|     São Paulo|      3.8|                      61000.0|\n",
      "| 11|   Bianca Lima|            105|  70000|      2020-06-15|      Curitiba|      4.0|                      70000.0|\n",
      "| 12|Thiago Almeida|            106|  68000|      2019-07-20|      Brasília|      4.2|                      68000.0|\n",
      "+---+--------------+---------------+-------+----------------+--------------+---------+-----------------------------+\n",
      "\n"
     ]
    },
    {
     "name": "stderr",
     "output_type": "stream",
     "text": [
      "                                                                                \r"
     ]
    }
   ],
   "source": [
    "# Também funciona com withColumn\n",
    "\n",
    "df = criar_dataframe_funcionarios()\n",
    "\n",
    "df = df.withColumn(\n",
    "    'salario_medio_do_departamento', \n",
    "    F.expr(\"AVG(salario) OVER (PARTITION BY id_departamento)\")\n",
    ") # Particionando por departamento\n",
    "\n",
    "df.show()"
   ]
  }
 ],
 "metadata": {
  "kernelspec": {
   "display_name": ".venv",
   "language": "python",
   "name": "python3"
  },
  "language_info": {
   "codemirror_mode": {
    "name": "ipython",
    "version": 3
   },
   "file_extension": ".py",
   "mimetype": "text/x-python",
   "name": "python",
   "nbconvert_exporter": "python",
   "pygments_lexer": "ipython3",
   "version": "3.10.12"
  }
 },
 "nbformat": 4,
 "nbformat_minor": 2
}
